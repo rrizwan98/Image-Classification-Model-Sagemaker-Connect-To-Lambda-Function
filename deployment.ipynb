{
 "cells": [
  {
   "cell_type": "code",
   "execution_count": 2,
   "metadata": {},
   "outputs": [],
   "source": [
    "model_path = 's3://sagemaker-us-east-2-220544705075/Flower-classification-2023-10-06-09-24-54-222/output/model.tar.gz'"
   ]
  },
  {
   "cell_type": "code",
   "execution_count": 3,
   "metadata": {},
   "outputs": [
    {
     "name": "stdout",
     "output_type": "stream",
     "text": [
      "sagemaker.config INFO - Not applying SDK defaults from location: C:\\ProgramData\\sagemaker\\sagemaker\\config.yaml\n",
      "sagemaker.config INFO - Not applying SDK defaults from location: C:\\Users\\TEXON WARE\\AppData\\Local\\sagemaker\\sagemaker\\config.yaml\n"
     ]
    },
    {
     "name": "stderr",
     "output_type": "stream",
     "text": [
      "The class sagemaker.tensorflow.serving.Model has been renamed in sagemaker>=2.\n",
      "See: https://sagemaker.readthedocs.io/en/stable/v2.html for details.\n"
     ]
    },
    {
     "name": "stdout",
     "output_type": "stream",
     "text": [
      "sagemaker.config INFO - Not applying SDK defaults from location: C:\\ProgramData\\sagemaker\\sagemaker\\config.yaml\n",
      "sagemaker.config INFO - Not applying SDK defaults from location: C:\\Users\\TEXON WARE\\AppData\\Local\\sagemaker\\sagemaker\\config.yaml\n"
     ]
    }
   ],
   "source": [
    "from sagemaker.tensorflow.serving import Model\n",
    "\n",
    "role = \"arn:aws:iam::220544705075:role/agriculture\"\n",
    "\n",
    "tf_model = Model(model_path,\n",
    "           role = role,\n",
    "           framework_version='2.3')"
   ]
  },
  {
   "cell_type": "code",
   "execution_count": 4,
   "metadata": {},
   "outputs": [
    {
     "data": {
      "text/plain": [
       "sagemaker.deprecations.deprecated_class.<locals>.DeprecatedClass"
      ]
     },
     "execution_count": 4,
     "metadata": {},
     "output_type": "execute_result"
    }
   ],
   "source": [
    "type(tf_model)"
   ]
  },
  {
   "cell_type": "code",
   "execution_count": 9,
   "metadata": {},
   "outputs": [
    {
     "name": "stderr",
     "output_type": "stream",
     "text": [
      "'%time' is not recognized as an internal or external command,\n",
      "operable program or batch file.\n"
     ]
    },
    {
     "name": "stdout",
     "output_type": "stream",
     "text": [
      "sagemaker.config INFO - Not applying SDK defaults from location: C:\\ProgramData\\sagemaker\\sagemaker\\config.yaml\n",
      "sagemaker.config INFO - Not applying SDK defaults from location: C:\\Users\\TEXON WARE\\AppData\\Local\\sagemaker\\sagemaker\\config.yaml\n",
      "-----!"
     ]
    }
   ],
   "source": [
    "import time\n",
    "\n",
    "%%time\n",
    "tf_endpoint_name = 'flower-'+time.strftime(\"%Y-%m-%d-%H-%M-%S\", time.gmtime())\n",
    "\n",
    "tf_predictor = tf_model.deploy(initial_instance_count=1,\n",
    "                                   instance_type='ml.t2.medium',        # $0.115/hour \n",
    "                                   endpoint_name=tf_endpoint_name) "
   ]
  },
  {
   "cell_type": "markdown",
   "metadata": {},
   "source": [
    "### Prediction"
   ]
  },
  {
   "cell_type": "code",
   "execution_count": 10,
   "metadata": {},
   "outputs": [
    {
     "data": {
      "text/plain": [
       "sagemaker.tensorflow.model.TensorFlowPredictor"
      ]
     },
     "execution_count": 10,
     "metadata": {},
     "output_type": "execute_result"
    }
   ],
   "source": [
    "type(tf_predictor)"
   ]
  },
  {
   "cell_type": "code",
   "execution_count": 11,
   "metadata": {},
   "outputs": [],
   "source": [
    "from keras.preprocessing import image\n",
    "import os\n",
    "import requests\n",
    "from io import BytesIO\n",
    "from PIL import Image\n",
    "import numpy as np\n",
    "import matplotlib.pyplot as plt\n",
    "\n",
    "# Download an image and save it as test.jpg\n",
    "url='https://images.all-free-download.com/images/graphiclarge/background_bloom_blossom_celebration_ceremony_603818.jpg'\n",
    "\n",
    "response = requests.get(url)\n",
    "img1 = Image.open(BytesIO(response.content))\n",
    "img1.save('./test.jpg')\n",
    "# print(os.listdir('/tmp/'))\n",
    "    \n",
    "file_name = 'test.jpg'\n",
    "print(file_name)"
   ]
  },
  {
   "cell_type": "code",
   "execution_count": 14,
   "metadata": {},
   "outputs": [],
   "source": [
    "# image preprocessing\n",
    "test_image = Image.open(file_name)\n",
    "test_image = test_image.resize((300, 300))\n",
    "test_image = np.asarray(test_image)/255.0\n",
    "test_image=np.expand_dims(test_image, axis=0)"
   ]
  },
  {
   "cell_type": "code",
   "execution_count": 17,
   "metadata": {},
   "outputs": [],
   "source": [
    "test_image.shape\n",
    "all_labels = {0: 'daisy', 1: 'dandelion', 2: 'rose', 3: 'sunflower', 4: 'tulip'}"
   ]
  },
  {
   "cell_type": "code",
   "execution_count": 24,
   "metadata": {},
   "outputs": [
    {
     "name": "stdout",
     "output_type": "stream",
     "text": [
      "\n",
      "\n",
      "Maximum Probability:  0.99966383\n",
      "Classified: rose \n",
      "\n",
      "\n",
      "\n",
      "-------------------Individual Probability--------------------------------\n",
      "\n",
      "DAISY : 0.0 %\n",
      "DANDELION : 0.0 %\n",
      "ROSE : 99.97 %\n",
      "SUNFLOWER : 0.0 %\n",
      "TULIP : 0.03 %\n"
     ]
    }
   ],
   "source": [
    "result =tf_predictor.predict(test_image)\n",
    "# print(result['predictions'][0])\n",
    "\n",
    "prediction = np.array(result['predictions'])\n",
    "# print(\"result:\",prediction)\n",
    "mp = np.max(prediction[0], axis=-1)\n",
    "    \n",
    "labels = all_labels\n",
    "    \n",
    "print(\"\\n\\nMaximum Probability: \", mp)\n",
    "predicted_class = labels[np.argmax(prediction[0], axis=-1)]\n",
    "print(\"Classified:\", predicted_class, \"\\n\\n\")\n",
    "    \n",
    "classes=[]\n",
    "prob=[]\n",
    "print(\"\\n-------------------Individual Probability--------------------------------\\n\")\n",
    "\n",
    "for i,j in enumerate (prediction[0],0):\n",
    "    print(labels[i].upper(),':',round(j*100,2),'%')\n",
    "    classes.append(labels[i])\n",
    "    prob.append(round(j*100,2))"
   ]
  },
  {
   "cell_type": "markdown",
   "metadata": {},
   "source": [
    "### Delete Endpoint"
   ]
  },
  {
   "cell_type": "code",
   "execution_count": 25,
   "metadata": {},
   "outputs": [],
   "source": [
    "tf_predictor.delete_endpoint()"
   ]
  }
 ],
 "metadata": {
  "kernelspec": {
   "display_name": "Python310",
   "language": "python",
   "name": "python3"
  },
  "language_info": {
   "codemirror_mode": {
    "name": "ipython",
    "version": 3
   },
   "file_extension": ".py",
   "mimetype": "text/x-python",
   "name": "python",
   "nbconvert_exporter": "python",
   "pygments_lexer": "ipython3",
   "version": "3.10.11"
  }
 },
 "nbformat": 4,
 "nbformat_minor": 2
}
